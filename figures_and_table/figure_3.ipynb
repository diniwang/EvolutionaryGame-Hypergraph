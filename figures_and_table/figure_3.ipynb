{
 "cells": [
  {
   "cell_type": "code",
   "execution_count": 16,
   "metadata": {},
   "outputs": [],
   "source": [
    "import matplotlib.pyplot as plt\n",
    "import pylab\n",
    "import numpy as np\n",
    "import matplotlib as mpl\n",
    "import matplotlib.gridspec as gridspec"
   ]
  },
  {
   "cell_type": "markdown",
   "metadata": {},
   "source": [
    "### Homogeneous hypergraph (figure 3a-b)"
   ]
  },
  {
   "cell_type": "code",
   "execution_count": 21,
   "metadata": {},
   "outputs": [
    {
     "data": {
      "image/png": "[encoded data removed]",
      "text/plain": [
       "<Figure size 900x300 with 2 Axes>"
      ]
     },
     "metadata": {
      "needs_background": "light"
     },
     "output_type": "display_data"
    }
   ],
   "source": [
    "fig = plt.figure(dpi=100, figsize=(9,3))\n",
    " \n",
    "gs = gridspec.GridSpec(1, 2, figure=fig)\n",
    "ax0 = plt.subplot(gs[0, 0])\n",
    "ax1 = plt.subplot(gs[0, 1])\n",
    "\n",
    "# Figure 3a\n",
    "degree = [k for k in range(2, 40)]\n",
    "\n",
    "degree_gmc_info = open('hyperdegree_gmc.txt')\n",
    "degree_gmc = degree_gmc_info.readlines()\n",
    "degree_gmc = [float(i.strip('\\n')) for i in degree_gmc]\n",
    "ax0.scatter(degree, degree_gmc, c = '#514899', marker=\"D\", s=10)\n",
    "\n",
    "degree_hdb_info = open('hyperdegree_hdb.txt')\n",
    "degree_hdb = degree_hdb_info.readlines()\n",
    "degree_hdb = [float(i.strip('\\n')) for i in degree_hdb]\n",
    "ax0.scatter(degree, degree_hdb, c = '#A996C4', marker=\"o\", s=12)\n",
    "\n",
    "degree_him_info = open('hyperdegree_him.txt')\n",
    "degree_him = degree_him_info.readlines()\n",
    "degree_him = [float(i.strip('\\n')) for i in degree_him]\n",
    "ax0.scatter(degree, degree_him, c = '#77005C', marker=\"^\", s=10)\n",
    "\n",
    "ax0.axhline(y=1, ls='--', c='#151D29', linewidth =1)\n",
    "\n",
    "ax0.set_xlim(1, 40)\n",
    "ax0.set_ylim(0, 1.5)\n",
    "\n",
    "ax0.set_xticks([10,20,30,40])\n",
    "ax0.set_yticks([0,0.5,1,1.5])\n",
    "ax0.tick_params(labelsize = 14)\n",
    "\n",
    "ax0.set_xlabel(r\"Hyperdegree, $k$\",fontsize=16)\n",
    "ax0.set_ylabel(r\"$r^*$\",fontsize=16)\n",
    "\n",
    "mpl.rcParams[\"axes.spines.right\"] = False\n",
    "mpl.rcParams[\"axes.spines.top\"] = False\n",
    "\n",
    "\n",
    "# Figure 3b\n",
    "order = [g for g in range(2, 40)]\n",
    "\n",
    "order_gmc_info = open('order_gmc.txt')\n",
    "order_gmc = order_gmc_info.readlines()\n",
    "order_gmc = [float(i.strip('\\n')) for i in order_gmc]\n",
    "ax1.scatter(order, order_gmc, c = '#514899', marker=\"D\", s=10)\n",
    "\n",
    "order_hdb_info = open('order_hdb.txt')\n",
    "order_hdb = order_hdb_info.readlines()\n",
    "order_hdb = [float(i.strip('\\n')) for i in order_hdb]\n",
    "ax1.scatter(order, order_hdb, c = '#A996C4', marker=\"o\", s=12)\n",
    "\n",
    "order_him_info = open('order_him.txt')\n",
    "order_him = order_him_info.readlines()\n",
    "order_him = [float(i.strip('\\n')) for i in order_him]\n",
    "ax1.scatter(order, order_him, c = '#77005C', marker=\"^\", s=10)\n",
    "\n",
    "ax1.axhline(y=1, ls='--', c='#151D29', linewidth =1)\n",
    "\n",
    "ax1.set_xticks([10,20,30,40])\n",
    "ax1.set_yticks([0,0.5,1,1.5])\n",
    "pylab.xlim(1, 40)\n",
    "pylab.ylim(0, 1.5)\n",
    "\n",
    "plt.tick_params(labelsize = 14)\n",
    "\n",
    "ax1.set_xlabel(r\"Order, $g$\",fontsize=16)\n",
    "\n",
    "plt.tight_layout(w_pad=3)\n",
    "\n",
    "mpl.rcParams[\"axes.spines.right\"] = False\n",
    "mpl.rcParams[\"axes.spines.top\"] = False\n",
    "\n",
    "fig.savefig('figure_3ab.jpg', bbox_inches = 'tight', dpi=1000)"
   ]
  },
  {
   "cell_type": "markdown",
   "metadata": {},
   "source": [
    "### Heterogeneous hypergraph (figure 3c-d)"
   ]
  },
  {
   "cell_type": "markdown",
   "metadata": {},
   "source": [
    "#### Data regarding hyperdegree heterogeneity"
   ]
  },
  {
   "cell_type": "code",
   "execution_count": 45,
   "metadata": {},
   "outputs": [],
   "source": [
    "degree_hete_eta_info = open('hyperdegree_hetero.txt')\n",
    "degree_hete_eta_total = degree_hete_eta_info.readlines()\n",
    "degree_hete_eta_total = [float(i.strip('\\n')) for i in degree_hete_eta_total]\n",
    "\n",
    "degree_hete_gmc_info = open('hyperdegree_hetero_gmc.txt')\n",
    "degree_hete_gmc_total = degree_hete_gmc_info.readlines()\n",
    "degree_hete_gmc_total = [float(i.strip('\\n')) for i in degree_hete_gmc_total]\n",
    "\n",
    "degree_hete_hdb_info = open('hyperdegree_hetero_hdb.txt')\n",
    "degree_hete_hdb_total = degree_hete_hdb_info.readlines()\n",
    "degree_hete_hdb_total = [float(i.strip('\\n')) for i in degree_hete_hdb_total]\n",
    "\n",
    "degree_hete_him_info = open('hyperdegree_hetero_him.txt')\n",
    "degree_hete_him_total = degree_hete_him_info.readlines()\n",
    "degree_hete_him_total = [float(i.strip('\\n')) for i in degree_hete_him_total]\n",
    "\n",
    "degree_hete_eta = np.arange(1.1, 3.0, 0.05)\n",
    "\n",
    "degree_hete_hdb = []\n",
    "degree_hete_him = []\n",
    "degree_hete_gmc = []\n",
    "\n",
    "for eta in degree_hete_eta:\n",
    "\n",
    "    nbr_hdb_lst = []\n",
    "    nbr_him_lst = []\n",
    "    nbr_gmc_lst = []\n",
    "\n",
    "    for index, item in enumerate(degree_hete_eta_total):\n",
    "        if (item > eta - 0.01) and (item < eta + 0.01):\n",
    "            nbr_hdb_lst.append(degree_hete_hdb_total[index])\n",
    "            nbr_him_lst.append(degree_hete_him_total[index])\n",
    "            nbr_gmc_lst.append(degree_hete_gmc_total[index])\n",
    "\n",
    "    degree_hete_hdb.append(np.mean(nbr_hdb_lst))\n",
    "    degree_hete_him.append(np.mean(nbr_him_lst))\n",
    "    degree_hete_gmc.append(np.mean(nbr_gmc_lst))"
   ]
  },
  {
   "cell_type": "markdown",
   "metadata": {},
   "source": [
    "#### Data regarding order heterogeneity"
   ]
  },
  {
   "cell_type": "code",
   "execution_count": 46,
   "metadata": {},
   "outputs": [],
   "source": [
    "order_hete_eta_info = open('order_hetero.txt')\n",
    "order_hete_eta_total = order_hete_eta_info.readlines()\n",
    "order_hete_eta_total = [float(i.strip('\\n')) for i in order_hete_eta_total]\n",
    "\n",
    "order_hete_gmc_info = open('order_hetero_gmc.txt')\n",
    "order_hete_gmc_total = order_hete_gmc_info.readlines()\n",
    "order_hete_gmc_total = [float(i.strip('\\n')) for i in order_hete_gmc_total]\n",
    "\n",
    "order_hete_hdb_info = open('order_hetero_hdb.txt')\n",
    "order_hete_hdb_total = order_hete_hdb_info.readlines()\n",
    "order_hete_hdb_total = [float(i.strip('\\n')) for i in order_hete_hdb_total]\n",
    "\n",
    "order_hete_him_info = open('order_hetero_him.txt')\n",
    "order_hete_him_total = order_hete_him_info.readlines()\n",
    "order_hete_him_total = [float(i.strip('\\n')) for i in order_hete_him_total]\n",
    "\n",
    "order_hete_eta = np.arange(1.1, 3.0, 0.05)\n",
    "\n",
    "order_hete_hdb = []\n",
    "order_hete_him = []\n",
    "order_hete_gmc = []\n",
    "\n",
    "for eta in order_hete_eta:\n",
    "\n",
    "    nbr_hdb_lst = []\n",
    "    nbr_him_lst = []\n",
    "    nbr_gmc_lst = []\n",
    "\n",
    "    for index, item in enumerate(order_hete_eta_total):\n",
    "        if (item > eta - 0.01) and (item < eta + 0.01):\n",
    "            nbr_hdb_lst.append(order_hete_hdb_total[index])\n",
    "            nbr_him_lst.append(order_hete_him_total[index])\n",
    "            nbr_gmc_lst.append(order_hete_gmc_total[index])\n",
    "\n",
    "    order_hete_hdb.append(np.mean(nbr_hdb_lst))\n",
    "    order_hete_him.append(np.mean(nbr_him_lst))\n",
    "    order_hete_gmc.append(np.mean(nbr_gmc_lst))"
   ]
  },
  {
   "cell_type": "markdown",
   "metadata": {},
   "source": [
    "#### Plot the figure 3c-d"
   ]
  },
  {
   "cell_type": "code",
   "execution_count": 47,
   "metadata": {},
   "outputs": [
    {
     "data": {
      "image/png": "[encoded data removed]",
      "text/plain": [
       "<Figure size 900x300 with 2 Axes>"
      ]
     },
     "metadata": {
      "needs_background": "light"
     },
     "output_type": "display_data"
    }
   ],
   "source": [
    "fig = plt.figure(dpi=100, figsize=(9,3))\n",
    "\n",
    "gs = gridspec.GridSpec(1, 2, figure=fig)\n",
    "ax2 = plt.subplot(gs[0, 0])\n",
    "ax3 = plt.subplot(gs[0, 1])\n",
    "\n",
    "# Figure 3c\n",
    "ax2.scatter(degree_hete_eta, degree_hete_gmc, c = '#514899', marker=\"D\", s=10)\n",
    "ax2.scatter(degree_hete_eta, degree_hete_him, c = '#77005C', marker=\"^\", s=10)\n",
    "ax2.scatter(degree_hete_eta, degree_hete_hdb, c = '#A996C4', marker=\"o\", s=10)\n",
    "\n",
    "ax2.axhline(y=1, ls='--', c='#151D29', linewidth =1)\n",
    "\n",
    "ax2.set_xlim(1.06, 3)\n",
    "ax2.set_ylim(0.5, 1.3)\n",
    "\n",
    "ax2.set_xticks([1.5, 2, 2.5, 3])\n",
    "ax2.set_yticks([0.5, 0.75, 1, 1.25])\n",
    "ax2.tick_params(labelsize = 14)\n",
    "\n",
    "ax2.set_xlabel(r\"Hyperdegree heterogeneity, $\\eta_k$\",fontsize=16)\n",
    "ax2.set_ylabel(r\"$r^*$\",fontsize=16)\n",
    "\n",
    "mpl.rcParams[\"axes.spines.right\"] = False\n",
    "mpl.rcParams[\"axes.spines.top\"] = False\n",
    "\n",
    "\n",
    "# Figure 3d\n",
    "ax3.scatter(order_hete_eta, order_hete_gmc, c = '#514899', marker=\"D\", s=10)\n",
    "ax3.scatter(order_hete_eta, order_hete_him, c = '#77005C', marker=\"^\", s=10)\n",
    "ax3.scatter(order_hete_eta, order_hete_hdb, c = '#A996C4', marker=\"o\", s=12)\n",
    "\n",
    "ax3.axhline(y=1, ls='--', c='#151D29', linewidth =1)\n",
    "\n",
    "ax3.set_xticks([1.5, 2, 2.5, 3])\n",
    "ax3.set_yticks([0.5, 0.75, 1, 1.25])\n",
    "ax3.set_xlim(1.06, 3)\n",
    "ax3.set_ylim(0.5, 1.3)\n",
    "\n",
    "plt.tick_params(labelsize = 14)\n",
    "\n",
    "ax3.set_xlabel(r\"Order heterogeneity, $ \\eta_g $\",fontsize=16)\n",
    "\n",
    "plt.tight_layout(w_pad=3)\n",
    "\n",
    "mpl.rcParams[\"axes.spines.right\"] = False\n",
    "mpl.rcParams[\"axes.spines.top\"] = False\n",
    "\n",
    "fig.savefig('Figure3-4.jpg', bbox_inches = 'tight', dpi=1000)"
   ]
  }
 ],
 "metadata": {
  "kernelspec": {
   "display_name": "base",
   "language": "python",
   "name": "python3"
  },
  "language_info": {
   "codemirror_mode": {
    "name": "ipython",
    "version": 3
   },
   "file_extension": ".py",
   "mimetype": "text/x-python",
   "name": "python",
   "nbconvert_exporter": "python",
   "pygments_lexer": "ipython3",
   "version": "3.9.12"
  }
 },
 "nbformat": 4,
 "nbformat_minor": 2
}
