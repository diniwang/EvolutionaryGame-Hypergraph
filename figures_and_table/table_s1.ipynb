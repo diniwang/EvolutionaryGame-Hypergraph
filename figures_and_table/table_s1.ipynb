{
 "cells": [
  {
   "cell_type": "code",
   "execution_count": 1,
   "metadata": {},
   "outputs": [],
   "source": [
    "from pprint import pprint\n",
    "from hypergraphx import Hypergraph\n",
    "import sys\n",
    "sys.path.append('..')\n",
    " \n",
    "from theoretical_calculation_higher import calculation_higher"
   ]
  },
  {
   "cell_type": "markdown",
   "metadata": {},
   "source": [
    "### Couauthorship"
   ]
  },
  {
   "cell_type": "code",
   "execution_count": 4,
   "metadata": {},
   "outputs": [
    {
     "name": "stdout",
     "output_type": "stream",
     "text": [
      "{'average_hyperdegree': 2.5113636363636362,\n",
      " 'average_order': 2.1666666666666665,\n",
      " 'num_of_hyperedges': 102,\n",
      " 'num_of_nodes': 88,\n",
      " 'r_gic': 1.019348549388603,\n",
      " 'r_gmc': 0.6654575419110703,\n",
      " 'r_hdb': 0.7047147962355502,\n",
      " 'r_him': 0.8743317111951062,\n",
      " 'r_hpc': 1.019348549388603}\n"
     ]
    }
   ],
   "source": [
    "dataset = \"coauth-DBLP\"\n",
    "\n",
    "file_hyperedge = open(f'../cleaned_datasets/{dataset}-hyperedges.txt')\n",
    "hyperedge = file_hyperedge.readlines()\n",
    "hyperedge_lst = []\n",
    "for edge in hyperedge:\n",
    "    edge = edge.strip('\\n').split(\",\")\n",
    "    hyperedge_lst.append([int(n) for n in edge])\n",
    "\n",
    "H = Hypergraph(hyperedge_lst)           # hypergraph construction\n",
    "\n",
    "theoretical_solution = calculation_higher(H)\n",
    "pprint(theoretical_solution)\n"
   ]
  },
  {
   "cell_type": "markdown",
   "metadata": {},
   "source": [
    "### Human contact"
   ]
  },
  {
   "cell_type": "code",
   "execution_count": 14,
   "metadata": {},
   "outputs": [
    {
     "name": "stdout",
     "output_type": "stream",
     "text": [
      "{'average_hyperdegree': 27.292929292929294,\n",
      " 'average_order': 2.3806167400881058,\n",
      " 'num_of_hyperedges': 1135,\n",
      " 'num_of_nodes': 99,\n",
      " 'r_gic': 1.0202155595924358,\n",
      " 'r_gmc': 0.9175954948215111,\n",
      " 'r_hdb': 0.9472935741637584,\n",
      " 'r_him': 0.9879480084119858,\n",
      " 'r_hpc': 1.0202155595924358}\n"
     ]
    }
   ],
   "source": [
    "dataset = \"contact-high-school\"\n",
    "\n",
    "file_hyperedge = open(f'../cleaned_datasets/{dataset}-hyperedges.txt')\n",
    "hyperedge = file_hyperedge.readlines()\n",
    "hyperedge_lst = []\n",
    "for edge in hyperedge:\n",
    "    edge = edge.strip('\\n').split(\",\")\n",
    "    hyperedge_lst.append([int(n) for n in edge])\n",
    "\n",
    "H = Hypergraph(hyperedge_lst)           # hypergraph construction\n",
    "\n",
    "theoretical_solution = calculation_higher(H)\n",
    "pprint(theoretical_solution)\n"
   ]
  },
  {
   "cell_type": "markdown",
   "metadata": {},
   "source": [
    "### Congress bills"
   ]
  },
  {
   "cell_type": "code",
   "execution_count": 15,
   "metadata": {},
   "outputs": [
    {
     "name": "stdout",
     "output_type": "stream",
     "text": [
      "{'average_hyperdegree': 4.298245614035087,\n",
      " 'average_order': 2.2685185185185186,\n",
      " 'num_of_hyperedges': 108,\n",
      " 'num_of_nodes': 57,\n",
      " 'r_gic': 1.062231877179211,\n",
      " 'r_gmc': 0.8132935830996395,\n",
      " 'r_hdb': 0.8690469554838842,\n",
      " 'r_him': 0.9736209633019717,\n",
      " 'r_hpc': 1.062231877179211}\n"
     ]
    }
   ],
   "source": [
    "dataset = \"congress-bills\"\n",
    "\n",
    "file_hyperedge = open(f'../cleaned_datasets/{dataset}-hyperedges.txt')\n",
    "hyperedge = file_hyperedge.readlines()\n",
    "hyperedge_lst = []\n",
    "for edge in hyperedge:\n",
    "    edge = edge.strip('\\n').split(\",\")\n",
    "    hyperedge_lst.append([int(n) for n in edge])\n",
    "\n",
    "H = Hypergraph(hyperedge_lst)           # hypergraph construction\n",
    "\n",
    "theoretical_solution = calculation_higher(H)\n",
    "pprint(theoretical_solution)\n"
   ]
  },
  {
   "cell_type": "markdown",
   "metadata": {},
   "source": [
    "### Email"
   ]
  },
  {
   "cell_type": "code",
   "execution_count": 16,
   "metadata": {},
   "outputs": [
    {
     "name": "stdout",
     "output_type": "stream",
     "text": [
      "{'average_hyperdegree': 121.25,\n",
      " 'average_order': 3.1023454157782515,\n",
      " 'num_of_hyperedges': 2345,\n",
      " 'num_of_nodes': 60,\n",
      " 'r_gic': 1.0616391246106651,\n",
      " 'r_gmc': 0.9466053681743976,\n",
      " 'r_hdb': 1.0084994447651041,\n",
      " 'r_him': 1.0321266115373366,\n",
      " 'r_hpc': 1.0616391246106651}\n"
     ]
    }
   ],
   "source": [
    "dataset = \"email-Eu\"\n",
    "\n",
    "file_hyperedge = open(f'../cleaned_datasets/{dataset}-hyperedges.txt')\n",
    "hyperedge = file_hyperedge.readlines()\n",
    "hyperedge_lst = []\n",
    "for edge in hyperedge:\n",
    "    edge = edge.strip('\\n').split(\",\")\n",
    "    hyperedge_lst.append([int(n) for n in edge])\n",
    "\n",
    "H = Hypergraph(hyperedge_lst)           # hypergraph construction\n",
    "\n",
    "theoretical_solution = calculation_higher(H)\n",
    "pprint(theoretical_solution)\n"
   ]
  },
  {
   "cell_type": "markdown",
   "metadata": {},
   "source": [
    "### Online forum"
   ]
  },
  {
   "cell_type": "code",
   "execution_count": 5,
   "metadata": {},
   "outputs": [
    {
     "name": "stdout",
     "output_type": "stream",
     "text": [
      "{'average_hyperdegree': 4.686868686868687,\n",
      " 'average_order': 2.1481481481481484,\n",
      " 'num_of_hyperedges': 216,\n",
      " 'num_of_nodes': 99,\n",
      " 'r_gic': 1.0374663219890743,\n",
      " 'r_gmc': 0.8314158460378415,\n",
      " 'r_hdb': 0.8559007313657997,\n",
      " 'r_him': 0.963406603006899,\n",
      " 'r_hpc': 1.0374663219890743}\n"
     ]
    }
   ],
   "source": [
    "dataset = \"threads-math-sx\"\n",
    "\n",
    "file_hyperedge = open(f'../cleaned_datasets/{dataset}-hyperedges.txt')\n",
    "hyperedge = file_hyperedge.readlines()\n",
    "hyperedge_lst = []\n",
    "for edge in hyperedge:\n",
    "    edge = edge.strip('\\n').split(\",\")\n",
    "    hyperedge_lst.append([int(n) for n in edge])\n",
    "\n",
    "H = Hypergraph(hyperedge_lst)           # hypergraph construction\n",
    "\n",
    "theoretical_solution = calculation_higher(H)\n",
    "pprint(theoretical_solution)\n"
   ]
  }
 ],
 "metadata": {
  "kernelspec": {
   "display_name": "base",
   "language": "python",
   "name": "python3"
  },
  "language_info": {
   "codemirror_mode": {
    "name": "ipython",
    "version": 3
   },
   "file_extension": ".py",
   "mimetype": "text/x-python",
   "name": "python",
   "nbconvert_exporter": "python",
   "pygments_lexer": "ipython3",
   "version": "3.9.12"
  }
 },
 "nbformat": 4,
 "nbformat_minor": 2
}
