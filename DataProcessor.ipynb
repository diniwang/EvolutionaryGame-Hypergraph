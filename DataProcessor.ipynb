{
 "cells": [
  {
   "cell_type": "code",
   "execution_count": 88,
   "metadata": {},
   "outputs": [],
   "source": [
    "import networkx as nx\n",
    "from random import sample"
   ]
  },
  {
   "cell_type": "markdown",
   "metadata": {},
   "source": [
    "## Datasets"
   ]
  },
  {
   "cell_type": "code",
   "execution_count": 89,
   "metadata": {},
   "outputs": [],
   "source": [
    "# Select the dataset. There are seven datasets as follows:\n",
    "# congress-bills\n",
    "# contact-high-school\n",
    "# contact-primary-school\n",
    "# email-Enron\n",
    "# email-Eu\n",
    "# threads-ask-ubuntu\n",
    "# threads-math-sx\n",
    "hyperdata = 'congress-bills'"
   ]
  },
  {
   "cell_type": "markdown",
   "metadata": {},
   "source": [
    "## Read the data"
   ]
  },
  {
   "cell_type": "code",
   "execution_count": 90,
   "metadata": {},
   "outputs": [
    {
     "name": "stdout",
     "output_type": "stream",
     "text": [
      "V_row:  1024507\n",
      "E_row:  1044630\n"
     ]
    }
   ],
   "source": [
    "# Read the vertex data.\n",
    "f1 = open(f\"./RowData/{hyperdata}/{hyperdata}-nverts.txt\", \"r\")\n",
    "file01 = f1.readlines()\n",
    "vertexes = [int(i.strip('\\n')) for i in file01]\n",
    "\n",
    "\n",
    "# Read the hyperedge data.\n",
    "f2 = open(f\"./RowData/{hyperdata}/{hyperdata}-simplices.txt\", \"r\")\n",
    "file02 = f2.readlines()\n",
    "hyperedges = [int(i.strip('\\n')) for i in file02]\n",
    "\n",
    "\n",
    "# Obtain the row data and delete hyperedges with size more than one.\n",
    "E_row = []\n",
    "j = 0\n",
    "for i in vertexes:\n",
    "    j += i\n",
    "    E_row.append(hyperedges[j : j + i])\n",
    "\n",
    "E_row = [list(set(l)) for l in E_row]\n",
    "E_row = [sorted(i) for i in E_row if len(i) >= 2]\n",
    "\n",
    "\n",
    "V_row = []\n",
    "for l in E_row:\n",
    "    V_row += l\n",
    "V_row = list(set(V_row))\n",
    "\n",
    "print('V_row: ', len(V_row))\n",
    "print('E_row: ', len(E_row))"
   ]
  },
  {
   "cell_type": "markdown",
   "metadata": {},
   "source": [
    "## Setting"
   ]
  },
  {
   "cell_type": "code",
   "execution_count": 94,
   "metadata": {},
   "outputs": [],
   "source": [
    "# Weight ('yes') or not ('no')\n",
    "weight = 'yes'\n",
    "\n",
    "# Set the number of the selected vertices, which should be smaller than V_row.\n",
    "Set_N = 20000"
   ]
  },
  {
   "cell_type": "markdown",
   "metadata": {},
   "source": [
    "## Select a part of the hypergraph"
   ]
  },
  {
   "cell_type": "code",
   "execution_count": 95,
   "metadata": {},
   "outputs": [
    {
     "name": "stdout",
     "output_type": "stream",
     "text": [
      "V_select:  239\n",
      "E_select:  127\n"
     ]
    }
   ],
   "source": [
    "Set_V = sample(V_row, Set_N)\n",
    "\n",
    "E_select = [l for l in E_row if all(value in Set_V for value in l)]\n",
    "\n",
    "\n",
    "# Vertex list\n",
    "V_select = []\n",
    "for l in E_select:\n",
    "    V_select += l\n",
    "V_select = list(set(V_select))\n",
    "\n",
    "\n",
    "Nei_vertex = {i: [] for i in V_select}\n",
    "for i in V_select:\n",
    "    i_list = []\n",
    "    for l in E_select:\n",
    "        if i in l:\n",
    "            i_list += l\n",
    "    i_nodup = list(set(i_list))\n",
    "    i_nodup.remove(i)\n",
    "    Nei_vertex[i] = i_nodup\n",
    "\n",
    "print('V_select: ', len(V_select))\n",
    "print('E_select: ', len(E_select))"
   ]
  },
  {
   "cell_type": "markdown",
   "metadata": {},
   "source": [
    "## Max-compoment"
   ]
  },
  {
   "cell_type": "code",
   "execution_count": 96,
   "metadata": {},
   "outputs": [
    {
     "name": "stdout",
     "output_type": "stream",
     "text": [
      "V_compo:  5\n",
      "E_compo:  5\n"
     ]
    }
   ],
   "source": [
    "# Generate a graph\n",
    "HG = nx.Graph()\n",
    "\n",
    "# Add vertexes\n",
    "HG.add_nodes_from(V_select)\n",
    "\n",
    "# Add edges\n",
    "edge = []\n",
    "for i in V_select:\n",
    "    edge += list(zip([i] * len(Nei_vertex), Nei_vertex[i]))\n",
    "HG.add_edges_from(edge)\n",
    "\n",
    "# Obtain all the connected subgraphs.\n",
    "components = nx.connected_components(HG)\n",
    " \n",
    "# Obtain the max compoment of the connected subgraphs.\n",
    "max_component = max(components, key=len)\n",
    "\n",
    "V_compo = list(max_component)\n",
    "E_compo = [l for l in E_select if set(l).issubset(set(V_compo))]\n",
    "\n",
    "print('V_compo: ', len(V_compo))\n",
    "print('E_compo: ', len(E_compo))"
   ]
  },
  {
   "cell_type": "markdown",
   "metadata": {},
   "source": [
    "## Reorder and nodup"
   ]
  },
  {
   "cell_type": "code",
   "execution_count": 97,
   "metadata": {},
   "outputs": [
    {
     "name": "stdout",
     "output_type": "stream",
     "text": [
      "V:  5\n",
      "E:  4\n"
     ]
    }
   ],
   "source": [
    "E_reorder = [[V_compo.index(i) for i in e] for e in E_compo]\n",
    "\n",
    "E_sort = [tuple(sorted(i)) for i in E_reorder]\n",
    "\n",
    "E_nodup = list(set(E_sort))\n",
    "\n",
    "E = sorted(E_nodup, key=lambda x: min(x))\n",
    "\n",
    "V = list(range(len(V_compo)))\n",
    "\n",
    "\n",
    "if weight == 'no':\n",
    "    W = [1] * int(len(E))\n",
    "\n",
    "elif weight == 'yes':\n",
    "    W = [E_sort.count(i) for i in E]\n",
    "\n",
    "    \n",
    "print('V: ', len(V))\n",
    "print('E: ', len(E))"
   ]
  },
  {
   "cell_type": "markdown",
   "metadata": {},
   "source": [
    "## Save the vertices"
   ]
  },
  {
   "cell_type": "code",
   "execution_count": 98,
   "metadata": {},
   "outputs": [],
   "source": [
    "file = open(f\"./ProcessedData/{hyperdata}/{hyperdata}-vertices.txt\",'w')\n",
    "for i in range(len(V)):\n",
    "    s = str(V[i]) + '\\n'\n",
    "    file.write(s)\n",
    "file.close()"
   ]
  },
  {
   "cell_type": "markdown",
   "metadata": {},
   "source": [
    "## Save the weights"
   ]
  },
  {
   "cell_type": "code",
   "execution_count": 99,
   "metadata": {},
   "outputs": [],
   "source": [
    "file = open(f\"./ProcessedData/{hyperdata}/{hyperdata}-weights.txt\",'w')\n",
    "for i in range(len(W)):\n",
    "    s = str(W[i]) + '\\n'\n",
    "    file.write(s)\n",
    "file.close()"
   ]
  },
  {
   "cell_type": "markdown",
   "metadata": {},
   "source": [
    "## Save the hyperedges"
   ]
  },
  {
   "cell_type": "code",
   "execution_count": 100,
   "metadata": {},
   "outputs": [],
   "source": [
    "file = open(f\"./ProcessedData/{hyperdata}/{hyperdata}-hyperedges.txt\",'w')\n",
    "for i in range(len(E)):\n",
    "    s = str(E[i]).replace('(','').replace(')','') + '\\n'\n",
    "    file.write(s)\n",
    "file.close()"
   ]
  },
  {
   "cell_type": "code",
   "execution_count": null,
   "metadata": {},
   "outputs": [],
   "source": []
  }
 ],
 "metadata": {
  "kernelspec": {
   "display_name": "base",
   "language": "python",
   "name": "python3"
  },
  "language_info": {
   "codemirror_mode": {
    "name": "ipython",
    "version": 3
   },
   "file_extension": ".py",
   "mimetype": "text/x-python",
   "name": "python",
   "nbconvert_exporter": "python",
   "pygments_lexer": "ipython3",
   "version": "3.9.12"
  },
  "orig_nbformat": 4
 },
 "nbformat": 4,
 "nbformat_minor": 2
}
